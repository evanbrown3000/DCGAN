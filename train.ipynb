{
 "cells": [
  {
   "cell_type": "code",
   "execution_count": 33,
   "metadata": {},
   "outputs": [],
   "source": [
    "import tensorflow as tf\n",
    "import tensorflow_datasets as tfds\n",
    "import glob\n",
    "import imageio\n",
    "import matplotlib.pyplot as plt\n",
    "import numpy as np\n",
    "import os\n",
    "from datetime import datetime\n",
    "import PIL\n",
    "from keras import layers\n",
    "from keras import Sequential\n",
    "from keras.layers import Conv2DTranspose, Conv2D, BatchNormalization, ReLU, LeakyReLU, Dropout, Dense, Activation, Input, Reshape\n",
    "import keras\n",
    "import time\n",
    "from IPython import display\n",
    "\n",
    "DATA_DIR='/home/evan/Datasets/tensorflow'\n",
    "BUFFER_SIZE = 10000\n",
    "BATCH_SIZE = 32\n",
    "LOAD_CHECKPOINT = False\n",
    "\n",
    "#run ochannelse to download\n",
    "train_dataset = tfds.load('stanford_dogs', as_supervised=False, split='train', data_dir=DATA_DIR, download=True)\n",
    "#normal operation\n",
    "train_dataset = tfds.load('stanford_dogs', as_supervised=False, split='train', data_dir=DATA_DIR, download=False)\n",
    "\n",
    "train_dataset = train_dataset.map(lambda x : x['image'])\n",
    "# print(next(train.take(1).as_numpy_iterator()))\n",
    "train_dataset = train_dataset.map(lambda x : tf.image.resize(x, (64,64)))\n",
    "train_dataset = train_dataset.map(lambda x : tf.cast(x, tf.float32))\n",
    "train_dataset = train_dataset.map(lambda x : (x - 127.5) / 127.5)  # Normalize the images to [-1, 1]\n",
    "train_dataset = train_dataset.shuffle(BUFFER_SIZE).batch(BATCH_SIZE).prefetch(tf.data.experimental.AUTOTUNE)\n"
   ]
  },
  {
   "cell_type": "code",
   "execution_count": 4,
   "metadata": {},
   "outputs": [
    {
     "name": "stderr",
     "output_type": "stream",
     "text": [
      "2021-10-26 12:20:06.913554: I tensorflow/compiler/mlir/mlir_graph_optimization_pass.cc:185] None of the MLIR Optimization Passes are enabled (registered 2)\n"
     ]
    },
    {
     "data": {
      "text/plain": [
       "<matplotlib.image.AxesImage at 0x7f26283a3310>"
      ]
     },
     "execution_count": 4,
     "metadata": {},
     "output_type": "execute_result"
    },
    {
     "data": {
      "image/png": "[encoded data removed]",
      "text/plain": [
       "<Figure size 432x288 with 1 Axes>"
      ]
     },
     "metadata": {
      "needs_background": "light"
     },
     "output_type": "display_data"
    }
   ],
   "source": [
    "plt.imshow((next(train_dataset.as_numpy_iterator())[0]*127.5 +127.5)/255.)"
   ]
  },
  {
   "cell_type": "code",
   "execution_count": 51,
   "metadata": {},
   "outputs": [],
   "source": [
    "num_epochs = 5\n",
    "batch_size = 128\n",
    "\n",
    "image_size = (64,64)\n",
    "\n",
    "# Number of channels\n",
    "channels = 3\n",
    "\n",
    "# Size of latent vector (i.e. size of generator input)\n",
    "latent_size = 120\n",
    "\n",
    "# Size of feature maps in generator\n",
    "filters_gen = 64\n",
    "\n",
    "# Size of feature maps in discriminator\n",
    "filters_dis = 64\n",
    "\n",
    "#hyperparams for Adam\n",
    "lr = 0.0002\n",
    "beta1 = 0.5"
   ]
  },
  {
   "cell_type": "code",
   "execution_count": 61,
   "metadata": {},
   "outputs": [
    {
     "name": "stdout",
     "output_type": "stream",
     "text": [
      "Model: \"sequential_15\"\n",
      "_________________________________________________________________\n",
      "Layer (type)                 Output Shape              Param #   \n",
      "=================================================================\n",
      "dense_15 (Dense)             (None, 12288)             1486848   \n",
      "_________________________________________________________________\n",
      "reshape_13 (Reshape)         (None, 64, 64, 3)         0         \n",
      "_________________________________________________________________\n",
      "conv2d_transpose_90 (Conv2DT (None, 64, 64, 512)       24576     \n",
      "_________________________________________________________________\n",
      "batch_normalization_69 (Batc (None, 64, 64, 512)       2048      \n",
      "_________________________________________________________________\n",
      "re_lu_69 (ReLU)              (None, 64, 64, 512)       0         \n",
      "_________________________________________________________________\n",
      "conv2d_transpose_91 (Conv2DT (None, 64, 64, 256)       2097152   \n",
      "_________________________________________________________________\n",
      "batch_normalization_70 (Batc (None, 64, 64, 256)       1024      \n",
      "_________________________________________________________________\n",
      "re_lu_70 (ReLU)              (None, 64, 64, 256)       0         \n",
      "_________________________________________________________________\n",
      "conv2d_transpose_92 (Conv2DT (None, 64, 64, 128)       524288    \n",
      "_________________________________________________________________\n",
      "batch_normalization_71 (Batc (None, 64, 64, 128)       512       \n",
      "_________________________________________________________________\n",
      "re_lu_71 (ReLU)              (None, 64, 64, 128)       0         \n",
      "_________________________________________________________________\n",
      "conv2d_transpose_93 (Conv2DT (None, 64, 64, 64)        131072    \n",
      "_________________________________________________________________\n",
      "batch_normalization_72 (Batc (None, 64, 64, 64)        256       \n",
      "_________________________________________________________________\n",
      "re_lu_72 (ReLU)              (None, 64, 64, 64)        0         \n",
      "_________________________________________________________________\n",
      "conv2d_transpose_94 (Conv2DT (None, 64, 64, 3)         3072      \n",
      "_________________________________________________________________\n",
      "activation_15 (Activation)   (None, 64, 64, 3)         0         \n",
      "=================================================================\n",
      "Total params: 4,270,848\n",
      "Trainable params: 4,268,928\n",
      "Non-trainable params: 1,920\n",
      "_________________________________________________________________\n",
      "(1, 64, 64, 3)\n",
      "-9.431863\n"
     ]
    },
    {
     "data": {
      "text/plain": [
       "<matplotlib.image.AxesImage at 0x7f2620226520>"
      ]
     },
     "execution_count": 61,
     "metadata": {},
     "output_type": "execute_result"
    },
    {
     "data": {
      "image/png": "[encoded data removed]",
      "text/plain": [
       "<Figure size 432x288 with 1 Axes>"
      ]
     },
     "metadata": {
      "needs_background": "light"
     },
     "output_type": "display_data"
    }
   ],
   "source": [
    "def make_generator_model():\n",
    "    model = keras.Sequential([\n",
    "            # input is Z, going into a convolution\n",
    "            Input((latent_size)),\n",
    "            Dense(np.prod((image_size)+(3,))),\n",
    "            Reshape((image_size)+(3,)),\n",
    "            Conv2DTranspose(filters = filters_gen * 8, kernel_size=4, strides=1, padding='same',use_bias=False),\n",
    "            BatchNormalization(),\n",
    "            ReLU(),\n",
    "            Conv2DTranspose(filters_gen * 4, 4, 1, padding='same',use_bias=False),\n",
    "            BatchNormalization(),\n",
    "            ReLU(),\n",
    "            Conv2DTranspose(filters_gen * 2, 4, 1,padding='same',use_bias=False),\n",
    "            BatchNormalization(),\n",
    "            ReLU(),\n",
    "            Conv2DTranspose(filters_gen, 4, 1, padding='same',use_bias=False),\n",
    "            BatchNormalization(),\n",
    "            ReLU(),\n",
    "            Conv2DTranspose(channels, 4, 1,padding='same',use_bias=False),\n",
    "            Activation('tanh')\n",
    "    ])\n",
    "    return model\n",
    "\n",
    "generator = make_generator_model()\n",
    "generator.summary()\n",
    "noise = tf.random.normal([1, latent_size])\n",
    "generated_image = generator(noise, training=False).numpy()\n",
    "print(generated_image.shape)\n",
    "print(generated_image.sum())\n",
    "plt.imshow(((generated_image[0, :, :, :]*127.5)+127.5)/255.)"
   ]
  },
  {
   "cell_type": "code",
   "execution_count": 64,
   "metadata": {},
   "outputs": [],
   "source": [
    "def make_discriminator_model():\n",
    "    model = tf.keras.Sequential()\n",
    "    model.add(layers.Conv2D(64, (5, 5), strides=(1, 1), padding='same',\n",
    "                                     input_shape=[64, 64, 3]))\n",
    "    model.add(layers.LeakyReLU())\n",
    "    model.add(layers.Dropout(0.3))\n",
    "\n",
    "    model.add(layers.AveragePooling2D((5, 5), strides=(2, 2), padding='same'))\n",
    "    model.add(layers.LeakyReLU())\n",
    "    model.add(layers.Dropout(0.3))\n",
    "\n",
    "    model.add(layers.Conv2D(256, (5, 5), strides=(1, 1), padding='same'))\n",
    "    model.add(layers.LeakyReLU())\n",
    "    model.add(layers.Dropout(0.3))\n",
    "\n",
    "    model.add(layers.AveragePooling2D((5, 5), strides=(2, 2), padding='same'))\n",
    "    model.add(layers.LeakyReLU())\n",
    "    model.add(layers.Dropout(0.3))\n",
    "\n",
    "    model.add(layers.Conv2D(256, (5, 5), strides=(1, 1), padding='same'))\n",
    "    model.add(layers.LeakyReLU())\n",
    "    model.add(layers.Dropout(0.3))\n",
    "\n",
    "    model.add(layers.Flatten())\n",
    "    model.add(layers.Dense(1))\n",
    "\n",
    "    return model"
   ]
  },
  {
   "cell_type": "code",
   "execution_count": 65,
   "metadata": {},
   "outputs": [
    {
     "name": "stdout",
     "output_type": "stream",
     "text": [
      "tf.Tensor([[-0.00011767]], shape=(1, 1), dtype=float32)\n"
     ]
    }
   ],
   "source": [
    "discriminator = make_discriminator_model()\n",
    "decision = discriminator(generated_image)\n",
    "print (decision)"
   ]
  },
  {
   "cell_type": "code",
   "execution_count": 66,
   "metadata": {},
   "outputs": [],
   "source": [
    "cross_entropy = tf.keras.losses.BinaryCrossentropy(from_logits=True)"
   ]
  },
  {
   "cell_type": "code",
   "execution_count": 67,
   "metadata": {},
   "outputs": [],
   "source": [
    "def discriminator_loss(real_output, fake_output):\n",
    "    real_loss = cross_entropy(tf.ones_like(real_output), real_output)\n",
    "    fake_loss = cross_entropy(tf.zeros_like(fake_output), fake_output)\n",
    "    total_loss = real_loss + fake_loss\n",
    "    return total_loss\n",
    "\n",
    "def generator_loss(fake_output):\n",
    "    return cross_entropy(tf.ones_like(fake_output), fake_output)"
   ]
  },
  {
   "cell_type": "code",
   "execution_count": 68,
   "metadata": {},
   "outputs": [],
   "source": [
    "generator_optimizer = tf.keras.optimizers.Adam(lr, beta1)\n",
    "discriminator_optimizer = tf.keras.optimizers.Adam(lr, beta1)"
   ]
  },
  {
   "cell_type": "code",
   "execution_count": 69,
   "metadata": {},
   "outputs": [],
   "source": [
    "checkpoint_dir = './training_checkpoints' + datetime.now().strftime(\"%H:%M:%S\")\n",
    "checkpoint_prefix = os.path.join(checkpoint_dir, \"ckpt\")\n",
    "checkpoint = tf.train.Checkpoint(generator_optimizer=generator_optimizer,\n",
    "                                 discriminator_optimizer=discriminator_optimizer,\n",
    "                                 generator=generator,\n",
    "                                 discriminator=discriminator)"
   ]
  },
  {
   "cell_type": "code",
   "execution_count": 70,
   "metadata": {},
   "outputs": [],
   "source": [
    "EPOCHS = 200\n",
    "noise_dim = 120\n",
    "num_examples_to_generate = 16\n",
    "\n",
    "# You will reuse this seed overtime (so it's easier)\n",
    "# to visualize progress in the animated GIF)\n",
    "seed = tf.random.normal([num_examples_to_generate, noise_dim])"
   ]
  },
  {
   "cell_type": "code",
   "execution_count": 72,
   "metadata": {},
   "outputs": [],
   "source": [
    "# Notice the use of `tf.fuchannelstion`\n",
    "# This annotation causes the fuchannelstion to be \"compiled\".\n",
    "@tf.function\n",
    "def train_step(images):\n",
    "    noise = tf.random.normal([BATCH_SIZE, noise_dim])\n",
    "\n",
    "    with tf.GradientTape() as gen_tape, tf.GradientTape() as disc_tape:\n",
    "      generated_images = generator(noise, training=True)\n",
    "\n",
    "      real_output = discriminator(images, training=True)\n",
    "      fake_output = discriminator(generated_images, training=True)\n",
    "\n",
    "      gen_loss = generator_loss(fake_output)\n",
    "      disc_loss = discriminator_loss(real_output, fake_output)\n",
    "\n",
    "    gradients_of_generator = gen_tape.gradient(gen_loss, generator.trainable_variables)\n",
    "    gradients_of_discriminator = disc_tape.gradient(disc_loss, discriminator.trainable_variables)\n",
    "\n",
    "    generator_optimizer.apply_gradients(zip(gradients_of_generator, generator.trainable_variables))\n",
    "    discriminator_optimizer.apply_gradients(zip(gradients_of_discriminator, discriminator.trainable_variables))"
   ]
  },
  {
   "cell_type": "code",
   "execution_count": 73,
   "metadata": {},
   "outputs": [],
   "source": [
    "if LOAD_CHECKPOINT:\n",
    "    ckpt = tf.train.Checkpoint(\n",
    "        generator_optimizer=generator_optimizer, discriminator_optimizer=discriminator_optimizer, generator=generator, discriminator=discriminator\n",
    "    )\n",
    "    manager = tf.train.CheckpointManager(ckpt, './training_checkpoints/', max_to_keep=3)\n",
    "    ckpt.restore(manager.latest_checkpoint)"
   ]
  },
  {
   "cell_type": "code",
   "execution_count": 74,
   "metadata": {},
   "outputs": [],
   "source": [
    "def train(dataset, epochs):\n",
    "  for epoch in range(epochs):\n",
    "    start = time.time()\n",
    "\n",
    "    for image_batch in dataset:\n",
    "      train_step(image_batch)\n",
    "\n",
    "    # Produce images for the GIF as you go\n",
    "    display.clear_output(wait=True)\n",
    "    generate_and_save_images(generator,\n",
    "                             epoch + 1,\n",
    "                             seed)\n",
    "\n",
    "    # Save the model every 15 epochs\n",
    "    if (epoch + 1) % 15 == 0:\n",
    "      checkpoint.save(file_prefix = checkpoint_prefix)\n",
    "\n",
    "    print ('Time for epoch {} is {} sec'.format(epoch + 1, time.time()-start))\n",
    "\n",
    "  # Generate after the final epoch\n",
    "  display.clear_output(wait=True)\n",
    "  generate_and_save_images(generator,\n",
    "                           epochs,\n",
    "                           seed)"
   ]
  },
  {
   "cell_type": "code",
   "execution_count": 75,
   "metadata": {},
   "outputs": [],
   "source": [
    "def generate_and_save_images(model, epoch, test_input):\n",
    "  # Notice `training` is set to False.\n",
    "  # This is so all layers run in inferechannelse mode (batchnorm).\n",
    "  predictions = model(test_input, training=False)\n",
    "\n",
    "  fig = plt.figure(figsize=(4, 4))\n",
    "\n",
    "  for i in range(predictions.shape[0]):\n",
    "      plt.subplot(4, 4, i+1)\n",
    "      plt.imshow((predictions[i, :, :, :] * 127.5 + 127.5)/255.)\n",
    "      plt.axis('off')\n",
    "\n",
    "  plt.savefig('image_at_epoch_{:04d}.png'.format(epoch))\n",
    "  plt.show()"
   ]
  },
  {
   "cell_type": "code",
   "execution_count": null,
   "metadata": {},
   "outputs": [],
   "source": []
  },
  {
   "cell_type": "code",
   "execution_count": 76,
   "metadata": {},
   "outputs": [],
   "source": [
    "train(train_dataset, EPOCHS)\n"
   ]
  }
 ],
 "metadata": {
  "interpreter": {
   "hash": "8ef37928cbe5219b2fcf8404ea29b31b1a966345f86328e41ae7ac18a87552f8"
  },
  "kernelspec": {
   "display_name": "Python 3.9.7 64-bit ('tensorflow': conda)",
   "name": "python3"
  },
  "language_info": {
   "codemirror_mode": {
    "name": "ipython",
    "version": 3
   },
   "file_extension": ".py",
   "mimetype": "text/x-python",
   "name": "python",
   "nbconvert_exporter": "python",
   "pygments_lexer": "ipython3",
   "version": "3.9.7"
  },
  "orig_nbformat": 4
 },
 "nbformat": 4,
 "nbformat_minor": 2
}
